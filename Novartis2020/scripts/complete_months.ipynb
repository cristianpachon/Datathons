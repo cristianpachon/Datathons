{
 "cells": [
  {
   "cell_type": "code",
   "execution_count": null,
   "metadata": {},
   "outputs": [],
   "source": [
    "import pandas as pd\n",
    "import os\n",
    "import numpy as np"
   ]
  },
  {
   "cell_type": "code",
   "execution_count": null,
   "metadata": {},
   "outputs": [],
   "source": [
    "root_dir = os.path.dirname(os.getcwd())\n",
    "data_dir = os.path.join(root_dir, 'data')"
   ]
  },
  {
   "cell_type": "code",
   "execution_count": null,
   "metadata": {},
   "outputs": [],
   "source": [
    "merged_path = os.path.join(data_dir, 'gx_merged.csv')\n",
    "merged_lags_path = os.path.join(data_dir, 'gx_merged_lags.csv')\n",
    "volume_path = os.path.join(data_dir, 'gx_volume.csv')"
   ]
  },
  {
   "cell_type": "code",
   "execution_count": null,
   "metadata": {},
   "outputs": [],
   "source": [
    "df_merged = pd.read_csv(merged_path)\n",
    "df_merged_lags = pd.read_csv(merged_lags_path)\n",
    "volume = pd.read_csv(volume_path)"
   ]
  },
  {
   "cell_type": "code",
   "execution_count": null,
   "metadata": {},
   "outputs": [],
   "source": [
    "months = ['Jan', 'Feb', 'Mar','Apr', 'May', 'Jun', 'Jul', 'Aug', 'Sep', 'Oct', 'Nov', 'Dec']"
   ]
  },
  {
   "cell_type": "code",
   "execution_count": null,
   "metadata": {},
   "outputs": [],
   "source": [
    "test_merged = df_merged.loc[df_merged.test == 1, :]\n",
    "test_merged_lags = df_merged_lags.loc[df_merged_lags.test == 1, :]\n",
    "train_merged = df_merged.loc[df_merged.test == 0, :]\n",
    "train_merged_lags = df_merged_lags.loc[df_merged_lags.test == 0, :]"
   ]
  },
  {
   "cell_type": "code",
   "execution_count": null,
   "metadata": {},
   "outputs": [],
   "source": [
    "volume_before_1 = volume.loc[volume.month_num == -1, ['country', 'brand', 'month_num', 'month_name']]\n",
    "volume_before_1.rename(columns={'month_num': 'month_num_1', 'month_name': 'month_name_1'}, inplace=True)\n",
    "volume_before_1.head()"
   ]
  },
  {
   "cell_type": "code",
   "execution_count": null,
   "metadata": {},
   "outputs": [],
   "source": [
    "def create_month(month_str, increment):\n",
    "    idx = months.index(month_str)\n",
    "    new_idx = (idx + increment)%12\n",
    "    return months[new_idx]"
   ]
  },
  {
   "cell_type": "code",
   "execution_count": null,
   "metadata": {},
   "outputs": [],
   "source": [
    "test_merged_volume = test_merged.merge(volume_before_1,  how='left', on=['country', 'brand'])\n",
    "test_merged_volume.head()"
   ]
  },
  {
   "cell_type": "code",
   "execution_count": null,
   "metadata": {},
   "outputs": [],
   "source": [
    "test_merged_volume['diff'] = test_merged_volume.month_num - test_merged_volume.month_num_1\n",
    "test_merged_volume.head()"
   ]
  },
  {
   "cell_type": "code",
   "execution_count": null,
   "metadata": {},
   "outputs": [],
   "source": [
    "test_merged_volume['month_name'] = np.vectorize(create_month)(test_merged_volume['month_name_1'], test_merged_volume['diff'])\n",
    "del test_merged_volume['diff'], test_merged_volume['month_num_1'], test_merged_volume['month_name_1']\n",
    "test_merged_volume.head()"
   ]
  },
  {
   "cell_type": "code",
   "execution_count": null,
   "metadata": {},
   "outputs": [],
   "source": [
    "test_merged_lags_volume = test_merged_lags.merge(volume_before_1,  how='left', on=['country', 'brand'])\n",
    "test_merged_lags_volume['diff'] = test_merged_lags_volume.month_num - test_merged_lags_volume.month_num_1\n",
    "test_merged_lags_volume['month_name'] = np.vectorize(create_month)(test_merged_lags_volume['month_name_1'], test_merged_lags_volume['diff'])\n",
    "del test_merged_lags_volume['diff'], test_merged_lags_volume['month_num_1'], test_merged_lags_volume['month_name_1']\n",
    "test_merged_lags_volume.head(50)"
   ]
  },
  {
   "cell_type": "code",
   "execution_count": null,
   "metadata": {},
   "outputs": [],
   "source": [
    "result_merged = pd.concat([train_merged, test_merged_volume])\n",
    "result_merged_lags = pd.concat([train_merged_lags, test_merged_lags_volume])"
   ]
  },
  {
   "cell_type": "code",
   "execution_count": null,
   "metadata": {},
   "outputs": [],
   "source": [
    "result_merged.to_csv(os.path.join(data_dir, 'gx_merged_months.csv'), index=False)\n",
    "result_merged_lags.to_csv(os.path.join(data_dir, 'gx_merged_lags_months.csv'), index=False)"
   ]
  },
  {
   "cell_type": "code",
   "execution_count": null,
   "metadata": {},
   "outputs": [],
   "source": [
    "print(len(result_merged))\n",
    "print(len(df_merged))\n",
    "print(len(result_merged_lags))\n",
    "print(len(df_merged_lags))"
   ]
  }
 ],
 "metadata": {
  "environment": {
   "name": "pytorch-gpu.1-6.m59",
   "type": "gcloud",
   "uri": "gcr.io/deeplearning-platform-release/pytorch-gpu.1-6:m59"
  },
  "kernelspec": {
   "display_name": "Python 3",
   "language": "python",
   "name": "python3"
  },
  "language_info": {
   "codemirror_mode": {
    "name": "ipython",
    "version": 3
   },
   "file_extension": ".py",
   "mimetype": "text/x-python",
   "name": "python",
   "nbconvert_exporter": "python",
   "pygments_lexer": "ipython3",
   "version": "3.7.8"
  }
 },
 "nbformat": 4,
 "nbformat_minor": 4
}
