{
 "cells": [
  {
   "cell_type": "code",
   "execution_count": null,
   "metadata": {},
   "outputs": [],
   "source": [
    "import pandas as pd\n",
    "import os\n",
    "import numpy as np"
   ]
  },
  {
   "cell_type": "code",
   "execution_count": null,
   "metadata": {},
   "outputs": [],
   "source": [
    "root_dir = os.path.dirname(os.getcwd())\n",
    "data_dir = os.path.join(root_dir, 'data')\n",
    "full_raw_initial_dataset_path = os.path.join(data_dir, 'gx_merged_lags_months.csv')\n",
    "volume_path = os.path.join(data_dir, 'gx_volume.csv')\n",
    "train_path = os.path.join(data_dir, 'train_split.csv')\n",
    "features_path = os.path.join(data_dir, 'features')"
   ]
  },
  {
   "cell_type": "code",
   "execution_count": null,
   "metadata": {},
   "outputs": [],
   "source": [
    "full_raw_initial_dataset = pd.read_csv(full_raw_initial_dataset_path)\n",
    "volume = pd.read_csv(volume_path, index_col=0)\n",
    "full_initial_dataset = full_raw_initial_dataset.loc[\n",
    "    full_raw_initial_dataset.test == 0,:].drop(columns = 'test').drop_duplicates()"
   ]
  },
  {
   "cell_type": "code",
   "execution_count": null,
   "metadata": {},
   "outputs": [],
   "source": [
    "def find_closest_volume(country, brand, month_num, length_serie, func):\n",
    "    ind = (volume.country == country) & (volume.brand == brand) & (volume.month_num <month_num)\n",
    "    volume_filter = volume.loc[ind, :]\n",
    "    volume_sorted = volume_filter.sort_values(by=['month_num'], ascending=False)\n",
    "    volume_sorted.reset_index(inplace=True, drop=True)\n",
    "    total_obs = len(volume_sorted)\n",
    "    total_to_select = length_serie if length_serie<=total_obs else total_obs \n",
    "    volumes_selected = volume_sorted.volume[:total_to_select].values\n",
    "    return func(volumes_selected)"
   ]
  },
  {
   "cell_type": "code",
   "execution_count": null,
   "metadata": {},
   "outputs": [],
   "source": [
    "base_df = full_initial_dataset.loc[:, ['country', 'brand']].drop_duplicates()"
   ]
  },
  {
   "cell_type": "code",
   "execution_count": null,
   "metadata": {},
   "outputs": [],
   "source": [
    "base_df['offset_mean_last_2_months'] = np.vectorize(find_closest_volume)(\n",
    "    base_df['country'], \n",
    "    base_df['brand'],\n",
    "    0,\n",
    "    2,\n",
    "    np.mean\n",
    ")"
   ]
  },
  {
   "cell_type": "code",
   "execution_count": null,
   "metadata": {},
   "outputs": [],
   "source": [
    "base_df['offset_mean_last_12_months'] = np.vectorize(find_closest_volume)(\n",
    "    base_df['country'], \n",
    "    base_df['brand'],\n",
    "    0,\n",
    "    12,\n",
    "    np.mean\n",
    ")"
   ]
  },
  {
   "cell_type": "code",
   "execution_count": null,
   "metadata": {},
   "outputs": [],
   "source": [
    "base_df['offset_median_last_12_months'] = np.vectorize(find_closest_volume)(\n",
    "    base_df['country'], \n",
    "    base_df['brand'],\n",
    "    0,\n",
    "    12,\n",
    "    np.median\n",
    ")"
   ]
  },
  {
   "cell_type": "code",
   "execution_count": null,
   "metadata": {},
   "outputs": [],
   "source": [
    "base_df['offset_max_last_12_months'] = np.vectorize(find_closest_volume)(\n",
    "    base_df['country'], \n",
    "    base_df['brand'],\n",
    "    0,\n",
    "    12,\n",
    "    np.amax\n",
    ")"
   ]
  },
  {
   "cell_type": "code",
   "execution_count": null,
   "metadata": {},
   "outputs": [],
   "source": [
    "base_df['offset_min_last_12_months'] = np.vectorize(find_closest_volume)(\n",
    "    base_df['country'], \n",
    "    base_df['brand'],\n",
    "    0,\n",
    "    12,\n",
    "    np.amin\n",
    ")"
   ]
  },
  {
   "cell_type": "code",
   "execution_count": null,
   "metadata": {},
   "outputs": [],
   "source": [
    "base_df['offset_mean_last_month'] = np.vectorize(find_closest_volume)(\n",
    "    base_df['country'], \n",
    "    base_df['brand'],\n",
    "    0,\n",
    "    1,\n",
    "    np.mean\n",
    ")"
   ]
  },
  {
   "cell_type": "code",
   "execution_count": null,
   "metadata": {},
   "outputs": [],
   "source": [
    "base_df['offset_mean_historical'] = np.vectorize(find_closest_volume)(\n",
    "    base_df['country'], \n",
    "    base_df['brand'],\n",
    "    0,\n",
    "    400,\n",
    "    np.mean\n",
    ")"
   ]
  },
  {
   "cell_type": "code",
   "execution_count": null,
   "metadata": {},
   "outputs": [],
   "source": [
    "base_df.to_csv('offsets.csv', index=False)"
   ]
  }
 ],
 "metadata": {
  "environment": {
   "name": "pytorch-gpu.1-6.m59",
   "type": "gcloud",
   "uri": "gcr.io/deeplearning-platform-release/pytorch-gpu.1-6:m59"
  },
  "kernelspec": {
   "display_name": "Python 3",
   "language": "python",
   "name": "python3"
  },
  "language_info": {
   "codemirror_mode": {
    "name": "ipython",
    "version": 3
   },
   "file_extension": ".py",
   "mimetype": "text/x-python",
   "name": "python",
   "nbconvert_exporter": "python",
   "pygments_lexer": "ipython3",
   "version": "3.7.8"
  }
 },
 "nbformat": 4,
 "nbformat_minor": 4
}
