{
 "cells": [
  {
   "cell_type": "markdown",
   "metadata": {},
   "source": [
    "### Imports"
   ]
  },
  {
   "cell_type": "code",
   "execution_count": null,
   "metadata": {},
   "outputs": [],
   "source": [
    "import pandas as pd\n",
    "import os"
   ]
  },
  {
   "cell_type": "markdown",
   "metadata": {},
   "source": [
    "### Directories"
   ]
  },
  {
   "cell_type": "code",
   "execution_count": null,
   "metadata": {},
   "outputs": [],
   "source": [
    "root_dir = os.path.dirname(os.path.dirname(os.getcwd()))\n",
    "data_dir = os.path.join(root_dir, 'data')"
   ]
  },
  {
   "cell_type": "code",
   "execution_count": null,
   "metadata": {},
   "outputs": [],
   "source": [
    "volume_path = os.path.join(data_dir, 'gx_volume.csv')\n",
    "merged_months_path = os.path.join(data_dir, 'gx_merged_months.csv')\n",
    "merged_lags_moths_path = os.path.join(data_dir, 'gx_merged_lags_months.csv')\n",
    "train_path = os.path.join(data_dir, 'train_split.csv')\n",
    "valid_split = os.path.join(data_dir, 'valid_split.csv')\n",
    "submission_template_path = os.path.join(data_dir, 'submission_template.csv')"
   ]
  },
  {
   "cell_type": "markdown",
   "metadata": {},
   "source": [
    "### Read data"
   ]
  },
  {
   "cell_type": "code",
   "execution_count": null,
   "metadata": {},
   "outputs": [],
   "source": [
    "volume = pd.read_csv(volume_path, index_col=0)\n",
    "submission = pd.read_csv(submission_template_path)\n",
    "merged = pd.read_csv(merged_months_path, index_col=0)\n",
    "merged_lags = pd.read_csv(merged_lags_moths_path, index_col=0)\n",
    "train = pd.read_csv(train_path)\n",
    "valid = pd.read_csv(valid_split)"
   ]
  },
  {
   "cell_type": "markdown",
   "metadata": {},
   "source": [
    "### EDA"
   ]
  },
  {
   "cell_type": "code",
   "execution_count": null,
   "metadata": {},
   "outputs": [],
   "source": [
    "print(volume.shape)\n",
    "print(volume.head())\n",
    "print(train.head())\n",
    "print(merged.head())"
   ]
  },
  {
   "cell_type": "code",
   "execution_count": null,
   "metadata": {},
   "outputs": [],
   "source": [
    "print(merged_months.describe())\n",
    "print(merged_months.head())"
   ]
  },
  {
   "cell_type": "code",
   "execution_count": null,
   "metadata": {},
   "outputs": [],
   "source": [
    "#Total number of medicaments\n",
    "volume.brand.nunique()"
   ]
  },
  {
   "cell_type": "markdown",
   "metadata": {},
   "source": [
    "### Plots"
   ]
  },
  {
   "cell_type": "code",
   "execution_count": null,
   "metadata": {},
   "outputs": [],
   "source": [
    "ind = (volume.brand == 'brand_20') & (volume.country == 'country_1')\n",
    "brand_20 = volume.loc[ind, :]\n",
    "brand_20.head()"
   ]
  },
  {
   "cell_type": "code",
   "execution_count": null,
   "metadata": {},
   "outputs": [],
   "source": [
    "brand_20.plot.line(x='month_num',y='volume',c='DarkBlue')"
   ]
  },
  {
   "cell_type": "code",
   "execution_count": null,
   "metadata": {},
   "outputs": [],
   "source": [
    "min_values = volume.groupby(['country', 'brand'], as_index=False)['month_num'].min()\n",
    "print(min_values)\n",
    "min_values.groupby(['brand'], as_index=False).count().sort_values(by='month_num', ascending=False)"
   ]
  },
  {
   "cell_type": "code",
   "execution_count": null,
   "metadata": {},
   "outputs": [],
   "source": [
    "mean_df = volume.groupby(['month_num'], as_index=False)['volume'].mean()\n",
    "mean_df.plot.line(x='month_num',y='volume',c='DarkBlue')"
   ]
  },
  {
   "cell_type": "markdown",
   "metadata": {},
   "source": [
    "### Checks"
   ]
  },
  {
   "cell_type": "code",
   "execution_count": null,
   "metadata": {},
   "outputs": [],
   "source": [
    "# Are all country, brands in test set also in volume?\n",
    "keys_submission = submission.loc[:, ['country', 'brand']].drop_duplicates()\n",
    "keys_volume = volume.loc[volume.month_num < 0, ['country', 'brand']].drop_duplicates()\n",
    "inner_both = keys_submission.merge(keys_volume, 'left', on = ['country', 'brand'])\n",
    "print(inner_both.shape)\n",
    "print(keys_submission.shape)"
   ]
  },
  {
   "cell_type": "code",
   "execution_count": null,
   "metadata": {},
   "outputs": [],
   "source": [
    "volume"
   ]
  }
 ],
 "metadata": {
  "environment": {
   "name": "pytorch-gpu.1-6.m59",
   "type": "gcloud",
   "uri": "gcr.io/deeplearning-platform-release/pytorch-gpu.1-6:m59"
  },
  "kernelspec": {
   "display_name": "Python 3",
   "language": "python",
   "name": "python3"
  },
  "language_info": {
   "codemirror_mode": {
    "name": "ipython",
    "version": 3
   },
   "file_extension": ".py",
   "mimetype": "text/x-python",
   "name": "python",
   "nbconvert_exporter": "python",
   "pygments_lexer": "ipython3",
   "version": "3.7.8"
  }
 },
 "nbformat": 4,
 "nbformat_minor": 4
}
