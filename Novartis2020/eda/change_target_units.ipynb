{
 "cells": [
  {
   "cell_type": "code",
   "execution_count": null,
   "metadata": {},
   "outputs": [],
   "source": [
    "import pandas as pd\n",
    "import os\n",
    "import numpy as np"
   ]
  },
  {
   "cell_type": "code",
   "execution_count": null,
   "metadata": {},
   "outputs": [],
   "source": [
    "root_dir = os.path.dirname(os.path.dirname(os.getcwd()))\n",
    "data_dir = os.path.join(root_dir, 'data')\n",
    "train_path = os.path.join(data_dir, 'train_split.csv')\n",
    "valid_path = os.path.join(data_dir, 'valid_split.csv')\n",
    "full_dataset_path = os.path.join(data_dir, 'gx_merged_months.csv')\n",
    "lags_features_path = os.path.join(data_dir, 'gx_merged_lags_months.csv')\n",
    "volume_path = os.path.join(data_dir, 'gx_volume.csv')"
   ]
  },
  {
   "cell_type": "code",
   "execution_count": null,
   "metadata": {},
   "outputs": [],
   "source": [
    "full = pd.read_csv(full_dataset_path)\n",
    "train = pd.read_csv(train_path)\n",
    "validation = pd.read_csv(valid_path)\n",
    "test = full.loc[full.test == 1, :]\n",
    "lags_features = pd.read_csv(lags_features_path)\n",
    "volume = pd.read_csv(volume_path, index_col=0)"
   ]
  },
  {
   "cell_type": "code",
   "execution_count": null,
   "metadata": {},
   "outputs": [],
   "source": [
    "volume_at_1 = volume.loc[volume.month_num == -1, ['country', 'brand', 'volume']].\\\n",
    "            drop_duplicates().\\\n",
    "            rename(columns={'volume':'volume_1'})"
   ]
  },
  {
   "cell_type": "code",
   "execution_count": null,
   "metadata": {},
   "outputs": [],
   "source": [
    "lags_features = full.merge(volume_at_1, 'left', on=['country', 'brand'])"
   ]
  },
  {
   "cell_type": "code",
   "execution_count": null,
   "metadata": {},
   "outputs": [],
   "source": [
    "lags_features['relative_volume'] = np.log((1 + lags_features.volume)/lags_features.volume_1)\n",
    "lags_features_train_validation = lags_features.loc[lags_features.test == 0, :]\n",
    "lags_features_test = lags_features.loc[lags_features.test == 1, :]"
   ]
  },
  {
   "cell_type": "code",
   "execution_count": null,
   "metadata": {},
   "outputs": [],
   "source": [
    "train_with_features = train.merge(lags_features_train_validation, 'inner', on=['country', 'brand'])\n",
    "validation_with_features = validation.merge(lags_features_train_validation, 'inner', on=['country', 'brand'])"
   ]
  },
  {
   "cell_type": "code",
   "execution_count": null,
   "metadata": {},
   "outputs": [],
   "source": [
    "train_serie = train_with_features.groupby(['month_num'], as_index=False).relative_volume.mean().rename(\n",
    "    columns={'relative_volume': 'relative_volume_train'})\n",
    "validation_serie = validation_with_features.groupby(['month_num'], as_index=False).relative_volume.mean().rename(\n",
    "    columns={'relative_volume': 'relative_volume_val'})\n",
    "both_series = train_serie.merge(validation_serie, 'inner', on = 'month_num')"
   ]
  },
  {
   "cell_type": "code",
   "execution_count": null,
   "metadata": {},
   "outputs": [],
   "source": [
    "both_series.set_index('month_num').plot(figsize=(10,5), grid=True)"
   ]
  }
 ],
 "metadata": {
  "environment": {
   "name": "pytorch-gpu.1-6.m59",
   "type": "gcloud",
   "uri": "gcr.io/deeplearning-platform-release/pytorch-gpu.1-6:m59"
  },
  "kernelspec": {
   "display_name": "Python 3",
   "language": "python",
   "name": "python3"
  },
  "language_info": {
   "codemirror_mode": {
    "name": "ipython",
    "version": 3
   },
   "file_extension": ".py",
   "mimetype": "text/x-python",
   "name": "python",
   "nbconvert_exporter": "python",
   "pygments_lexer": "ipython3",
   "version": "3.7.8"
  }
 },
 "nbformat": 4,
 "nbformat_minor": 4
}
